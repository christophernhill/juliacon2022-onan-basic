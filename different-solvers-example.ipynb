{
 "cells": [
  {
   "cell_type": "markdown",
   "id": "8f77b61a-d6cb-4dc4-819e-4a35fba9496d",
   "metadata": {},
   "source": [
    "### An example of using Oceananigans solvers\n",
    "This example looks at two elliptic problem solvers that can be used for problems of the general form \n",
    "\n",
    "$  \\nabla^2 \\phi + \\alpha \\phi = \\gamma $\n",
    "\n",
    "the example shows two solvers. A direct FFT based solver and an iterative conjugate gradient solver. Th FFT solver is a very fast technique for very regular cartesian grids, the conjugate gradient works for an arbitrary geometry. "
   ]
  },
  {
   "cell_type": "code",
   "execution_count": null,
   "id": "597ff782-f0f8-408c-a050-97243e63c728",
   "metadata": {},
   "outputs": [],
   "source": [
    "using Pkg\n",
    "Pkg.add(\"Oceananigans\")\n",
    "Pkg.add(\"JLD2\")\n",
    "Pkg.add(\"Statistics\")\n",
    "Pkg.add(\"DataDeps\")\n",
    "Pkg.add(\"CairoMakie\")\n",
    "Pkg.add(\"Plots\")\n",
    "Pkg.add(\"KernelAbstractions\")"
   ]
  },
  {
   "cell_type": "code",
   "execution_count": null,
   "id": "74d7623e-d4a3-4672-b689-1c21425ddc10",
   "metadata": {},
   "outputs": [],
   "source": [
    "# Setup\n",
    "using Oceananigans\n",
    "using Oceananigans.Solvers\n",
    "using Oceananigans.Models.NonhydrostaticModels: solve_for_pressure!\n",
    "using Oceananigans.BoundaryConditions: fill_halo_regions!\n",
    "using Plots\n",
    "using KernelAbstractions: @kernel, @index, Event\n",
    "using Oceananigans.Architectures: child_architecture, device, array_type\n",
    "using Oceananigans.Utils: launch!\n",
    "using Oceananigans.Operators: ∇²ᶜᶜᶜ, divᶜᶜᶜ\n",
    "arch=CPU()\n",
    "FT=Float64;"
   ]
  },
  {
   "cell_type": "markdown",
   "id": "ccfc000b-b08a-44a2-a30f-e7d9844ba7fb",
   "metadata": {},
   "source": [
    "#### Add a few interfaces to operators for useful functions.\n",
    "These illustrate the use of a couple of base operators, ∇²ᶜᶜᶜ and divᶜᶜᶜ . \n",
    "\n",
    "The  [`∇²ᶜᶜᶜ`](https://github.com/CliMA/Oceananigans.jl/blob/374e44f10ea6896a53b3258e59db4905e6dca281/src/Operators/laplacian_operators.jl#L36) operator computes \n",
    "\n",
    "$  \\nabla^2 \\phi  $ \n",
    "\n",
    "for a cell centered field on the Oceananigans grid.\n",
    "\n",
    "The [`divᶜᶜᶜ`](https://github.com/CliMA/Oceananigans.jl/blob/374e44f10ea6896a53b3258e59db4905e6dca281/src/Operators/divergence_operators.jl#L16) operator computes\n",
    "\n",
    "$ \\nabla \\cdot \\phi $\n",
    "\n",
    "for a cell centered field on the Oceananigans grid.\n"
   ]
  },
  {
   "cell_type": "code",
   "execution_count": null,
   "id": "ba8f98d9-de83-4360-87f9-2f021a5fe5ca",
   "metadata": {},
   "outputs": [],
   "source": [
    "function compute_∇²!(∇²ϕ, ϕ, arch, grid)\n",
    "    fill_halo_regions!(ϕ)\n",
    "    child_arch = child_architecture(arch)\n",
    "    event = launch!(child_arch, grid, :xyz, ∇²!, ∇²ϕ, grid, ϕ, dependencies=Event(device(child_arch)))\n",
    "    wait(device(child_arch), event)\n",
    "    fill_halo_regions!(∇²ϕ)\n",
    "    return nothing\n",
    "end\n",
    "@kernel function ∇²!(∇²f, grid, f)\n",
    "    i, j, k = @index(Global, NTuple)\n",
    "    @inbounds ∇²f[i, j, k] = ∇²ᶜᶜᶜ(i, j, k, grid, f)\n",
    "end\n",
    "@kernel function divergence!(grid, u, v, w, div)\n",
    "    i, j, k = @index(Global, NTuple)\n",
    "    @inbounds div[i, j, k] = divᶜᶜᶜ(i, j, k, grid, u, v, w)\n",
    "end"
   ]
  },
  {
   "cell_type": "markdown",
   "id": "9333a570-261e-4266-8607-024494732f88",
   "metadata": {},
   "source": [
    "#### Create grid and fields on grid"
   ]
  },
  {
   "cell_type": "code",
   "execution_count": null,
   "id": "72cf6ace-1655-4b0a-aaa6-d393e581d97f",
   "metadata": {},
   "outputs": [],
   "source": [
    "Lx=1\n",
    "Ly=1\n",
    "Nx=200\n",
    "Ny=200\n",
    "grid=RectilinearGrid(arch,FT,size=(Nx,Ny),extent=(Lx,Ly), topology=(Periodic, Periodic, Flat))\n",
    "u=XFaceField(grid);set!(u,rand(Nx,Ny));fill_halo_regions!(u)\n",
    "v=YFaceField(grid);set!(v,rand(Nx,Ny));fill_halo_regions!(v)\n",
    "w=ZFaceField(grid);set!(w,rand(Nx,Ny));fill_halo_regions!(w)\n",
    "U=(u=u,v=v,w=w)\n",
    "ϕ=CenterField(grid)\n",
    "∇²ϕ=CenterField(grid)"
   ]
  },
  {
   "cell_type": "markdown",
   "id": "ee0aaa43-8b92-4205-a73c-b8fdbbe486fe",
   "metadata": {},
   "source": [
    "#### Instance of solver (FFT based)\n",
    "Create and then apply"
   ]
  },
  {
   "cell_type": "code",
   "execution_count": null,
   "id": "0ec1cf17-a1a2-4ae5-a6c4-4c50c0d3501f",
   "metadata": {},
   "outputs": [],
   "source": [
    "solverFFT = FFTBasedPoissonSolver(grid)"
   ]
  },
  {
   "cell_type": "code",
   "execution_count": null,
   "id": "97c1be6f-3748-4d31-8894-c8c11ef7213d",
   "metadata": {},
   "outputs": [],
   "source": [
    "solve_for_pressure!(ϕ.data, solverFFT, 1, U)"
   ]
  },
  {
   "cell_type": "markdown",
   "id": "628b4537-6821-4c5d-94df-a8a3a85406fe",
   "metadata": {},
   "source": [
    "#### Check solution"
   ]
  },
  {
   "cell_type": "code",
   "execution_count": null,
   "id": "7955d11d-8368-4496-8884-8c4e95ce737a",
   "metadata": {},
   "outputs": [],
   "source": [
    "compute_∇²!(∇²ϕ, ϕ, arch, grid)"
   ]
  },
  {
   "cell_type": "code",
   "execution_count": null,
   "id": "17484090-03d0-496c-9182-02d464a2490d",
   "metadata": {},
   "outputs": [],
   "source": [
    "divU=zeros(Nx, Ny, 1) |> array_type(arch)\n",
    "event = launch!(arch, grid, :xyz, divergence!, grid, u.data, v.data, w.data, divU,\n",
    "                    dependencies=Event(device(arch)))\n",
    "wait(device(arch), event)"
   ]
  },
  {
   "cell_type": "code",
   "execution_count": null,
   "id": "9dae021b-387c-4913-bf7b-ed9f2d2efe00",
   "metadata": {},
   "outputs": [],
   "source": [
    "maximum(divU[:,:,1].-interior(∇²ϕ)[:,:,1]), minimum(divU[:,:,1].-interior(∇²ϕ)[:,:,1])"
   ]
  }
 ],
 "metadata": {
  "kernelspec": {
   "display_name": "Julia 1.7.3",
   "language": "julia",
   "name": "julia-1.7"
  },
  "language_info": {
   "file_extension": ".jl",
   "mimetype": "application/julia",
   "name": "julia",
   "version": "1.7.3"
  }
 },
 "nbformat": 4,
 "nbformat_minor": 5
}
