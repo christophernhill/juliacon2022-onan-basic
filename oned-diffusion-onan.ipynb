{
 "cells": [
  {
   "cell_type": "markdown",
   "id": "d288f1d6-3759-42c5-997c-d0303f0290e2",
   "metadata": {
    "tags": []
   },
   "source": [
    "## Introductory notebook showing Oceanigans basic high-level abstractions\n",
    "\n",
    "This notebook looks at a simple problem of stepping forward in time a 1d diffusion equation \n",
    "\n",
    " $$ \\frac{\\partial T}{\\partial t} = \\kappa \\frac{\\partial^2 T}{\\partial z^2} $$\n",
    "\n",
    "on a discrete mesh using Oceananigans abstractions.\n",
    "\n",
    "The example uses the following three key abstractions\n",
    "\n",
    "* `grid` \n",
    "     - a grid is a three dimensional space that has a logically cartesian index space. A grid index space has a topology that defines the edge rules for limit indices. A grid also has physical space coordinates attached to the index space locations. These coordinates specify the grid's discrete, structured finite volume mesh.\n",
    "  \n",
    "  \n",
    "\n",
    "* `model`\n",
    "     - a model supports a particular set of discretized in space and time equation evaluation code that is available to be computed on a grid. When a model is defined some or all of the equations are selected as active terms to be integrated.\n",
    "     \n",
    "     \n",
    "\n",
    "* `simulation`\n",
    "     - a simulation combines a `grid`, a `model` and simulation paramteres. A simulation evaluates the active terms of a model over the discrete space define by a grid."
   ]
  },
  {
   "cell_type": "code",
   "execution_count": null,
   "id": "5cf23b87-54d3-4680-90c2-eea8042ac24e",
   "metadata": {},
   "outputs": [],
   "source": [
    "using Pkg\n",
    "pkg\"add Oceananigans, CairoMakie\""
   ]
  },
  {
   "cell_type": "code",
   "execution_count": null,
   "id": "24250fef-54f9-4f20-b2f2-cdca20d12df1",
   "metadata": {},
   "outputs": [],
   "source": [
    "using Oceananigans"
   ]
  },
  {
   "cell_type": "markdown",
   "id": "0e2e8332-aa6c-4c7c-851b-e3c34683e695",
   "metadata": {
    "tags": []
   },
   "source": [
    "#### Define a grid instance \n",
    "This example defines a 1d index space along the last dimension of the grid with an implied wall at either end (`Bounded` topology). The other two dimensions are tagged as singleton dimensions (`Flat` topology). The final dimension of a gris is labelled `z`. "
   ]
  },
  {
   "cell_type": "code",
   "execution_count": null,
   "id": "45cd8029-f6e6-4636-87a3-b947298d1bf9",
   "metadata": {},
   "outputs": [],
   "source": [
    "grid = RectilinearGrid(size=128, z=(-0.5, 0.5), topology=(Flat, Flat, Bounded))"
   ]
  },
  {
   "cell_type": "markdown",
   "id": "f0fe6c36-b4ab-4912-b4c0-e3c311a0cc72",
   "metadata": {},
   "source": [
    "#### Get help on full properties of `RectilinearGrid`"
   ]
  },
  {
   "cell_type": "code",
   "execution_count": null,
   "id": "f085b1da-267b-4a50-a650-ab24b356e9af",
   "metadata": {},
   "outputs": [],
   "source": [
    "?RectilinearGrid"
   ]
  },
  {
   "cell_type": "markdown",
   "id": "70079ba1-cf68-4440-a617-eb8d7275f3e8",
   "metadata": {},
   "source": [
    "#### Define a model instance\n",
    "This example uses a a `NonhydrostaticModel` set of discrete equations. The full model equations contains multiple [terms](https://clima.github.io/OceananigansDocumentation/stable/physics/nonhydrostatic_model/#Nonhydrostatic-model) that solve an entire range of fluid problems. Here we create an instance in which only a single scalar field (`T`) is passed in along with a simple `ScalarDiffusivity` closure. This has the effect of reducing the specific model instance to only solving a simple diffusion equation."
   ]
  },
  {
   "cell_type": "code",
   "execution_count": null,
   "id": "d6aeab8c-7494-4237-ad40-36ddac0de9c4",
   "metadata": {},
   "outputs": [],
   "source": [
    "closure = ScalarDiffusivity(κ=1)\n",
    "model = NonhydrostaticModel(; grid, closure, tracers=:T)"
   ]
  },
  {
   "cell_type": "code",
   "execution_count": null,
   "id": "106047ea-79b9-467b-b251-0d06330f5862",
   "metadata": {},
   "outputs": [],
   "source": [
    "?NonhydrostaticModel"
   ]
  },
  {
   "cell_type": "code",
   "execution_count": null,
   "id": "304bcb7d-ff12-4a1c-ab37-91f7f1072da2",
   "metadata": {},
   "outputs": [],
   "source": [
    "width = 0.1\n",
    "initial_temperature(x, y, z) = exp(-z^2 / (2width^2))\n",
    "set!(model, T=initial_temperature)"
   ]
  },
  {
   "cell_type": "code",
   "execution_count": null,
   "id": "18664152-8991-44f8-8c73-b27eee16ed3a",
   "metadata": {},
   "outputs": [],
   "source": [
    "using CairoMakie\n",
    "set_theme!(Theme(fontsize = 24, linewidth=3))\n",
    "\n",
    "fig = Figure()\n",
    "axis = (xlabel = \"Temperature (ᵒC)\", ylabel = \"z\")\n",
    "label = \"t = 0\"\n",
    "\n",
    "z = znodes(model.tracers.T)\n",
    "T0 = copy( interior(model.tracers.T, 1, 1, :) )\n",
    "\n",
    "lines(T0, z; label, axis)"
   ]
  },
  {
   "cell_type": "code",
   "execution_count": null,
   "id": "4f38ea73-37ed-493c-890f-fa0b74ad9cba",
   "metadata": {},
   "outputs": [],
   "source": [
    "# Time-scale for diffusion across a grid cell\n",
    "diffusion_time_scale = model.grid.Δzᵃᵃᶜ^2 / model.closure.κ.T\n",
    "\n",
    "simulation = Simulation(model, Δt = 0.1 * diffusion_time_scale, stop_iteration = 1000)"
   ]
  },
  {
   "cell_type": "code",
   "execution_count": null,
   "id": "2fed0f81-ce29-4a80-acb7-cb23f4f6ca51",
   "metadata": {},
   "outputs": [],
   "source": [
    "run!(simulation)"
   ]
  },
  {
   "cell_type": "code",
   "execution_count": null,
   "id": "d593513c-8682-4760-861d-136baac09500",
   "metadata": {},
   "outputs": [],
   "source": [
    "using Printf\n",
    "\n",
    "set_theme!(Theme(fontsize = 24, linewidth=3))\n",
    "\n",
    "fig = Figure()\n",
    "axis = (xlabel = \"Temperature (ᵒC)\", ylabel = \"z\")\n",
    "label = \"t = 0\"\n",
    "\n",
    "z = znodes(model.tracers.T)\n",
    "T = interior(model.tracers.T, 1, 1, :)\n",
    "\n",
    "lines(T0, z; label, axis)\n",
    "lines!(T, z; label)\n",
    "current_figure()"
   ]
  },
  {
   "cell_type": "code",
   "execution_count": null,
   "id": "b71d09ad-4d44-4b24-a453-1c1aaafe3ca1",
   "metadata": {},
   "outputs": [],
   "source": [
    "model.velocities"
   ]
  },
  {
   "cell_type": "code",
   "execution_count": null,
   "id": "6b17874e-e49c-40b0-bfd2-fec81ed0a62a",
   "metadata": {},
   "outputs": [],
   "source": [
    "simulation.output_writers[:temperature] =\n",
    "    JLD2OutputWriter(model, model.tracers,\n",
    "                     filename = \"one_dimensional_diffusion.jld2\",\n",
    "                     schedule=IterationInterval(100),\n",
    "                     overwrite_existing = true)"
   ]
  },
  {
   "cell_type": "code",
   "execution_count": null,
   "id": "2bbc490d-8255-4426-9afd-0bf4876ad005",
   "metadata": {},
   "outputs": [],
   "source": [
    "simulation.stop_iteration += 10000\n",
    "run!(simulation)"
   ]
  },
  {
   "cell_type": "code",
   "execution_count": null,
   "id": "e7fa1705-d6a4-400b-b082-6547f519db4c",
   "metadata": {},
   "outputs": [],
   "source": [
    "T_timeseries = FieldTimeSeries(\"one_dimensional_diffusion.jld2\", \"T\")\n",
    "times = T_timeseries.times\n",
    "\n",
    "fig = Figure()\n",
    "ax = Axis(fig[2, 1]; xlabel = \"Temperature (ᵒC)\", ylabel = \"z\")\n",
    "xlims!(ax, 0, 1)\n",
    "\n",
    "n = Observable(1)\n",
    "\n",
    "T = @lift interior(T_timeseries[$n], 1, 1, :)\n",
    "lines!(T, z)\n",
    "\n",
    "label = @lift \"t = \" * string(round(times[$n], digits=3))\n",
    "Label(fig[1, 1], label, tellwidth=false)\n",
    "current_figure()"
   ]
  },
  {
   "cell_type": "code",
   "execution_count": null,
   "id": "c23fc967-07ae-4534-a69c-d3807da0738e",
   "metadata": {},
   "outputs": [],
   "source": [
    "frames = 1:length(times)\n",
    "\n",
    "@info \"Making an animation...\"\n",
    "\n",
    "record(fig, \"one_dimensional_diffusion.mp4\", frames, framerate=24) do i\n",
    "    msg = string(\"Plotting frame \", i, \" of \", frames[end])\n",
    "    print(msg * \" \\r\")\n",
    "    n[] = i\n",
    "end"
   ]
  },
  {
   "cell_type": "code",
   "execution_count": null,
   "id": "22a5335b-d51f-448d-a8f4-de1d77b9de1f",
   "metadata": {},
   "outputs": [],
   "source": [
    "wireframe(Sphere())\n"
   ]
  },
  {
   "cell_type": "code",
   "execution_count": null,
   "id": "b0ce1bb5-ed82-4b0f-9baa-83ca10b6968a",
   "metadata": {},
   "outputs": [],
   "source": []
  }
 ],
 "metadata": {
  "kernelspec": {
   "display_name": "Julia 1.7.3",
   "language": "julia",
   "name": "julia-1.7"
  },
  "language_info": {
   "file_extension": ".jl",
   "mimetype": "application/julia",
   "name": "julia",
   "version": "1.7.3"
  }
 },
 "nbformat": 4,
 "nbformat_minor": 5
}
