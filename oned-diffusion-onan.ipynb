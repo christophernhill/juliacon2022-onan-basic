{
 "cells": [
  {
   "cell_type": "markdown",
   "id": "d288f1d6-3759-42c5-997c-d0303f0290e2",
   "metadata": {
    "tags": []
   },
   "source": [
    "## Introductory notebook showing Oceanigans basic high-level abstractions\n",
    "\n",
    "This notebook looks at a simple problem of stepping forward in time a 1d diffusion equation \n",
    "\n",
    " $$ \\frac{\\partial T}{\\partial t} = \\kappa \\frac{\\partial^2 T}{\\partial z^2} $$\n",
    "\n",
    "on a discrete mesh using Oceananigans abstractions.\n",
    "\n",
    "The example uses the following three key abstractions\n",
    "\n",
    "* `grid` \n",
    "     - a grid is a three dimensional space that has a logically cartesian index space. A grid index space has a topology that defines the edge rules for limit indices. A grid also has physical space coordinates attached to the index space locations. These coordinates specify the grid's discrete, structured finite volume mesh.\n",
    "  \n",
    "  \n",
    "\n",
    "* `model`\n",
    "     - a model supports a particular set of discretized in space and time equation evaluation code that is available to be computed on a grid. When a model is defined some or all of the equations are selected as active terms to be integrated.\n",
    "     \n",
    "     \n",
    "\n",
    "* `simulation`\n",
    "     - a simulation combines a `grid`, a `model` and simulation paramteres. A simulation evaluates the active terms of a model over the discrete space define by a grid."
   ]
  },
  {
   "cell_type": "code",
   "execution_count": null,
   "id": "5cf23b87-54d3-4680-90c2-eea8042ac24e",
   "metadata": {},
   "outputs": [],
   "source": [
    "# Only needed if these aren't already installed (can \n",
    "using Pkg\n",
    "pkg\"add Oceananigans, CairoMakie, Plots\""
   ]
  },
  {
   "cell_type": "code",
   "execution_count": null,
   "id": "24250fef-54f9-4f20-b2f2-cdca20d12df1",
   "metadata": {},
   "outputs": [],
   "source": [
    "using Oceananigans"
   ]
  },
  {
   "cell_type": "markdown",
   "id": "0e2e8332-aa6c-4c7c-851b-e3c34683e695",
   "metadata": {
    "tags": []
   },
   "source": [
    "#### Define a grid instance \n",
    "This example defines a 1d index space along the last dimension of the grid with an implied wall at either end (`Bounded` topology). The other two dimensions are tagged as singleton dimensions (`Flat` topology). The final dimension of a gris is labelled `z`. "
   ]
  },
  {
   "cell_type": "code",
   "execution_count": null,
   "id": "45cd8029-f6e6-4636-87a3-b947298d1bf9",
   "metadata": {},
   "outputs": [],
   "source": [
    "grid = RectilinearGrid(size=128, z=(-0.5, 0.5), topology=(Flat, Flat, Bounded))"
   ]
  },
  {
   "cell_type": "markdown",
   "id": "70079ba1-cf68-4440-a617-eb8d7275f3e8",
   "metadata": {},
   "source": [
    "#### Define a model instance\n",
    "This example uses a a `NonhydrostaticModel` set of discrete equations. The full model equations contains multiple [terms](https://clima.github.io/OceananigansDocumentation/stable/physics/nonhydrostatic_model/#Nonhydrostatic-model) that solve an entire range of fluid problems. Here we create an instance in which only a single scalar field (`T`) is passed in along with a simple `ScalarDiffusivity` closure. This has the effect of reducing the specific model instance to only solving a simple diffusion equation."
   ]
  },
  {
   "cell_type": "code",
   "execution_count": null,
   "id": "d6aeab8c-7494-4237-ad40-36ddac0de9c4",
   "metadata": {},
   "outputs": [],
   "source": [
    "closure = ScalarDiffusivity(κ=1)\n",
    "model = NonhydrostaticModel(; grid, closure, tracers=:T)"
   ]
  },
  {
   "cell_type": "markdown",
   "id": "c892924e-c82b-4eb8-869e-b337f427afb5",
   "metadata": {},
   "source": [
    "#### Set initial conditions\n",
    "This is carried out inline using Julia code"
   ]
  },
  {
   "cell_type": "code",
   "execution_count": null,
   "id": "f7de6b7b-c112-4d05-8c25-f21b9f9c0e95",
   "metadata": {},
   "outputs": [],
   "source": [
    "width = 0.1\n",
    "initial_temperature(x, y, z) = exp(-z^2 / (2width^2))\n",
    "set!(model, T=initial_temperature)"
   ]
  },
  {
   "cell_type": "code",
   "execution_count": null,
   "id": "18664152-8991-44f8-8c73-b27eee16ed3a",
   "metadata": {},
   "outputs": [],
   "source": [
    "using CairoMakie\n",
    "set_theme!(Theme(fontsize = 24, linewidth=3))\n",
    "\n",
    "fig = Figure()\n",
    "axis = (xlabel = \"Temperature (ᵒC)\", ylabel = \"z\")\n",
    "label = \"t = 0\"\n",
    "\n",
    "z = znodes(model.tracers.T)\n",
    "T = interior(model.tracers.T, 1, 1, :)\n",
    "\n",
    "lines(T, z; label, axis)\n",
    "current_figure()"
   ]
  },
  {
   "cell_type": "markdown",
   "id": "01834b7d-3b7e-495b-945c-d258520c163a",
   "metadata": {},
   "source": [
    "#### Define and run simulation"
   ]
  },
  {
   "cell_type": "code",
   "execution_count": null,
   "id": "e48b9876-658b-4d6c-987a-f948c5b67b50",
   "metadata": {},
   "outputs": [],
   "source": [
    "# Time-scale for diffusion across a grid cell\n",
    "diffusion_time_scale = model.grid.Δzᵃᵃᶜ^2 / model.closure.κ.T\n",
    "\n",
    "simulation = Simulation(model, Δt = 0.1 * diffusion_time_scale, stop_iteration = 1000)\n",
    "\n",
    "run!(simulation)"
   ]
  },
  {
   "cell_type": "markdown",
   "id": "615d3193-c554-4983-a8a5-bfebada97ea0",
   "metadata": {},
   "source": [
    "#### Show change in tracer field after `run!(simulation)`"
   ]
  },
  {
   "cell_type": "code",
   "execution_count": null,
   "id": "dc083e02-f8f6-4dac-bca2-cf2dd5c68d8f",
   "metadata": {},
   "outputs": [],
   "source": [
    "using Printf\n",
    "\n",
    "z = znodes(model.tracers.T)\n",
    "T = interior(model.tracers.T, 1, 1, :)\n",
    "\n",
    "lines!(T, z; label)\n",
    "\n",
    "current_figure()"
   ]
  },
  {
   "cell_type": "markdown",
   "id": "980659d1-738d-4292-a9c1-11d5118b67cb",
   "metadata": {},
   "source": [
    "#### Now lets run a bit longer\n",
    "For this stage we add a callback to an `output_writer` which is how storing of time-dependent state is configured in Oceananigans."
   ]
  },
  {
   "cell_type": "code",
   "execution_count": null,
   "id": "e22fbbd3-ecd3-4c49-984a-39977628e407",
   "metadata": {},
   "outputs": [],
   "source": [
    "simulation.output_writers[:temperature] =\n",
    "    JLD2OutputWriter(model, model.tracers,\n",
    "                     filename = \"one_dimensional_diffusion.jld2\",\n",
    "                     schedule=IterationInterval(100),\n",
    "                     overwrite_existing = true)\n",
    "\n",
    "simulation.stop_iteration += 10000\n",
    "run!(simulation)"
   ]
  },
  {
   "cell_type": "markdown",
   "id": "57d00431-699e-415f-b8c5-f22bb3fd9fb7",
   "metadata": {},
   "source": [
    "#### From saved output we can make a little movie"
   ]
  },
  {
   "cell_type": "code",
   "execution_count": null,
   "id": "be8cd11a-d01b-46c7-9cc7-db27ffd6271e",
   "metadata": {},
   "outputs": [],
   "source": [
    "T_timeseries = FieldTimeSeries(\"one_dimensional_diffusion.jld2\", \"T\")\n",
    "times = T_timeseries.times\n",
    "\n",
    "fig = Figure()\n",
    "ax = Axis(fig[2, 1]; xlabel = \"Temperature (ᵒC)\", ylabel = \"z\")\n",
    "xlims!(ax, 0, 1)\n",
    "\n",
    "n = Observable(1)\n",
    "\n",
    "T = @lift interior(T_timeseries[$n], 1, 1, :)\n",
    "lines!(T, z)\n",
    "\n",
    "label = @lift \"t = \" * string(round(times[$n], digits=3))\n",
    "Label(fig[1, 1], label, tellwidth=false)\n",
    "current_figure()\n",
    "\n",
    "frames = 1:length(times)\n",
    "\n",
    "@info \"Making an animation...\"\n",
    "\n",
    "record(fig, \"one_dimensional_diffusion.mp4\", frames, framerate=24) do i\n",
    "    msg = string(\"Plotting frame \", i, \" of \", frames[end])\n",
    "    print(msg * \" \\r\")\n",
    "    n[] = i\n",
    "end"
   ]
  },
  {
   "cell_type": "markdown",
   "id": "a3bc9e1b-5f36-4026-8b78-65a24d637f94",
   "metadata": {},
   "source": [
    "#### Look at some help documentation and some high-level objects"
   ]
  },
  {
   "cell_type": "code",
   "execution_count": null,
   "id": "91a1670b-34e2-439e-9679-d1de7d35856c",
   "metadata": {},
   "outputs": [],
   "source": [
    "?RectilinearGrid"
   ]
  },
  {
   "cell_type": "code",
   "execution_count": null,
   "id": "bf129534-493c-4b61-9826-b6a26ad9a90b",
   "metadata": {},
   "outputs": [],
   "source": [
    "?NonhydrostaticModel"
   ]
  },
  {
   "cell_type": "code",
   "execution_count": null,
   "id": "f56a5084-f203-4872-a1fe-14a09dea6247",
   "metadata": {},
   "outputs": [],
   "source": [
    "?Simulation"
   ]
  },
  {
   "cell_type": "code",
   "execution_count": null,
   "id": "ee7f2e1d-c75b-4c94-91db-82042f6ac3fb",
   "metadata": {},
   "outputs": [],
   "source": [
    "?JLD2OutputWriter"
   ]
  },
  {
   "cell_type": "markdown",
   "id": "57437e0c-2d26-4f93-b361-30e8958b43dc",
   "metadata": {},
   "source": [
    "#### Small look at grid"
   ]
  },
  {
   "cell_type": "code",
   "execution_count": null,
   "id": "5825085c-20cc-4e4d-a01e-04b73db68921",
   "metadata": {},
   "outputs": [],
   "source": [
    "grid"
   ]
  },
  {
   "cell_type": "code",
   "execution_count": null,
   "id": "40ed60a6-b551-4777-99cb-fd431618357a",
   "metadata": {},
   "outputs": [],
   "source": [
    "using Plots\n",
    "ti=\"Grid cell centers (c) and Edges/Faces (f)\"\n",
    "pf = znodes(Center, grid)\n",
    "la=\"grid.zᵃᵃᶜ\"\n",
    "Plots.plot(pf.*0,pf,seriestype = :scatter,markersize=4,markerstrokewidth=0,label=la,legendfont=font(12))\n",
    "pf = znodes(Face, grid)\n",
    "la=\"grid.zᵃᵃᶠ\"\n",
    "Plots.plot!(pf.*0,pf,seriestype = :scatter, title=ti,markersize=4,markerstrokewidth=0,label=la)\n",
    "Plots.xlims!((-0.1,0.1))\n",
    "Plots.ylims!((-0.01,0.01))"
   ]
  },
  {
   "cell_type": "code",
   "execution_count": null,
   "id": "be0e42e7-cff7-4fe7-abdc-11efc3872af9",
   "metadata": {},
   "outputs": [],
   "source": []
  }
 ],
 "metadata": {
  "kernelspec": {
   "display_name": "Julia 1.7.3",
   "language": "julia",
   "name": "julia-1.7"
  },
  "language_info": {
   "file_extension": ".jl",
   "mimetype": "application/julia",
   "name": "julia",
   "version": "1.7.3"
  }
 },
 "nbformat": 4,
 "nbformat_minor": 5
}
