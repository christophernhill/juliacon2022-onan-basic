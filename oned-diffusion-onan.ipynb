{
 "cells": [
  {
   "cell_type": "code",
   "execution_count": null,
   "id": "8034f49c-f4d6-41a4-8e9f-7676bb3a55f9",
   "metadata": {},
   "outputs": [],
   "source": [
    "using Pkg\n",
    "pkg\"add Oceananigans, CairoMakie\""
   ]
  },
  {
   "cell_type": "code",
   "execution_count": null,
   "id": "24250fef-54f9-4f20-b2f2-cdca20d12df1",
   "metadata": {},
   "outputs": [],
   "source": [
    "using Oceananigans"
   ]
  },
  {
   "cell_type": "code",
   "execution_count": null,
   "id": "90672642-a023-43f5-8662-e47f3eb7f50a",
   "metadata": {},
   "outputs": [],
   "source": [
    "grid = RectilinearGrid(size=128, z=(-0.5, 0.5), topology=(Flat, Flat, Bounded))"
   ]
  },
  {
   "cell_type": "code",
   "execution_count": null,
   "id": "4ec5017d-621a-44f7-9bab-1ced43f972b8",
   "metadata": {},
   "outputs": [],
   "source": [
    "closure = ScalarDiffusivity(κ=1)"
   ]
  },
  {
   "cell_type": "code",
   "execution_count": null,
   "id": "f6c5a72d-5f47-4e57-b765-2ed5f88f9272",
   "metadata": {},
   "outputs": [],
   "source": [
    "model = NonhydrostaticModel(; grid, closure, tracers=:T)"
   ]
  },
  {
   "cell_type": "code",
   "execution_count": null,
   "id": "6dd83503-1e25-4734-a09d-08ce03dc4c27",
   "metadata": {},
   "outputs": [],
   "source": [
    "width = 0.1\n",
    "initial_temperature(x, y, z) = exp(-z^2 / (2width^2))\n",
    "set!(model, T=initial_temperature)"
   ]
  },
  {
   "cell_type": "code",
   "execution_count": null,
   "id": "18664152-8991-44f8-8c73-b27eee16ed3a",
   "metadata": {},
   "outputs": [],
   "source": [
    "using CairoMakie\n",
    "set_theme!(Theme(fontsize = 24, linewidth=3))\n",
    "\n",
    "fig = Figure()\n",
    "axis = (xlabel = \"Temperature (ᵒC)\", ylabel = \"z\")\n",
    "label = \"t = 0\"\n",
    "\n",
    "z = znodes(model.tracers.T)\n",
    "T0 = copy( interior(model.tracers.T, 1, 1, :) )\n",
    "\n",
    "lines(T0, z; label, axis)"
   ]
  },
  {
   "cell_type": "code",
   "execution_count": null,
   "id": "4f38ea73-37ed-493c-890f-fa0b74ad9cba",
   "metadata": {},
   "outputs": [],
   "source": [
    "# Time-scale for diffusion across a grid cell\n",
    "diffusion_time_scale = model.grid.Δzᵃᵃᶜ^2 / model.closure.κ.T\n",
    "\n",
    "simulation = Simulation(model, Δt = 0.1 * diffusion_time_scale, stop_iteration = 1000)"
   ]
  },
  {
   "cell_type": "code",
   "execution_count": null,
   "id": "2fed0f81-ce29-4a80-acb7-cb23f4f6ca51",
   "metadata": {},
   "outputs": [],
   "source": [
    "run!(simulation)"
   ]
  },
  {
   "cell_type": "code",
   "execution_count": null,
   "id": "d593513c-8682-4760-861d-136baac09500",
   "metadata": {},
   "outputs": [],
   "source": [
    "using Printf\n",
    "\n",
    "set_theme!(Theme(fontsize = 24, linewidth=3))\n",
    "\n",
    "fig = Figure()\n",
    "axis = (xlabel = \"Temperature (ᵒC)\", ylabel = \"z\")\n",
    "label = \"t = 0\"\n",
    "\n",
    "z = znodes(model.tracers.T)\n",
    "T = interior(model.tracers.T, 1, 1, :)\n",
    "\n",
    "lines(T0, z; label, axis)\n",
    "lines!(T, z; label)\n",
    "current_figure()"
   ]
  },
  {
   "cell_type": "code",
   "execution_count": null,
   "id": "b71d09ad-4d44-4b24-a453-1c1aaafe3ca1",
   "metadata": {},
   "outputs": [],
   "source": [
    "model.velocities"
   ]
  },
  {
   "cell_type": "code",
   "execution_count": null,
   "id": "6b17874e-e49c-40b0-bfd2-fec81ed0a62a",
   "metadata": {},
   "outputs": [],
   "source": [
    "simulation.output_writers[:temperature] =\n",
    "    JLD2OutputWriter(model, model.tracers,\n",
    "                     filename = \"one_dimensional_diffusion.jld2\",\n",
    "                     schedule=IterationInterval(100),\n",
    "                     overwrite_existing = true)"
   ]
  },
  {
   "cell_type": "code",
   "execution_count": null,
   "id": "2bbc490d-8255-4426-9afd-0bf4876ad005",
   "metadata": {},
   "outputs": [],
   "source": [
    "simulation.stop_iteration += 10000\n",
    "run!(simulation)"
   ]
  },
  {
   "cell_type": "code",
   "execution_count": null,
   "id": "e7fa1705-d6a4-400b-b082-6547f519db4c",
   "metadata": {},
   "outputs": [],
   "source": [
    "T_timeseries = FieldTimeSeries(\"one_dimensional_diffusion.jld2\", \"T\")\n",
    "times = T_timeseries.times\n",
    "\n",
    "fig = Figure()\n",
    "ax = Axis(fig[2, 1]; xlabel = \"Temperature (ᵒC)\", ylabel = \"z\")\n",
    "xlims!(ax, 0, 1)\n",
    "\n",
    "n = Observable(1)\n",
    "\n",
    "T = @lift interior(T_timeseries[$n], 1, 1, :)\n",
    "lines!(T, z)\n",
    "\n",
    "label = @lift \"t = \" * string(round(times[$n], digits=3))\n",
    "Label(fig[1, 1], label, tellwidth=false)\n",
    "current_figure()"
   ]
  },
  {
   "cell_type": "code",
   "execution_count": null,
   "id": "94db10b7-d744-4ea7-aaa3-67fde29842e7",
   "metadata": {},
   "outputs": [],
   "source": [
    "frames = 1:length(times)\n",
    "\n",
    "@info \"Making an animation...\"\n",
    "\n",
    "record(fig, \"one_dimensional_diffusion.mp4\", frames, framerate=24) do i\n",
    "    msg = string(\"Plotting frame \", i, \" of \", frames[end])\n",
    "    print(msg * \" \\r\")\n",
    "    n[] = i\n",
    "end"
   ]
  }
 ],
 "metadata": {
  "kernelspec": {
   "display_name": "Julia 1.7.3",
   "language": "julia",
   "name": "julia-1.7"
  },
  "language_info": {
   "file_extension": ".jl",
   "mimetype": "application/julia",
   "name": "julia",
   "version": "1.7.3"
  }
 },
 "nbformat": 4,
 "nbformat_minor": 5
}
