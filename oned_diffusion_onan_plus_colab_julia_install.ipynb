{
  "nbformat": 4,
  "nbformat_minor": 0,
  "metadata": {
    "colab": {
      "name": "oned-diffusion-onan-plus-colab-julia-install.ipynb",
      "provenance": [],
      "collapsed_sections": [],
      "include_colab_link": true
    },
    "kernelspec": {
      "name": "julia",
      "language": "julia",
      "display_name": "Julia"
    },
    "language_info": {
      "file_extension": ".jl",
      "mimetype": "application/julia",
      "name": "julia"
    }
  },
  "cells": [
    {
      "cell_type": "markdown",
      "metadata": {
        "id": "view-in-github",
        "colab_type": "text"
      },
      "source": [
        "<a href=\"https://colab.research.google.com/github/christophernhill/juliacon2022-onan-basic/blob/main/oned_diffusion_onan_plus_colab_julia_install.ipynb\" target=\"_parent\"><img src=\"https://colab.research.google.com/assets/colab-badge.svg\" alt=\"Open In Colab\"/></a>"
      ]
    },
    {
      "cell_type": "markdown",
      "source": [
        "# <img src=\"https://github.com/JuliaLang/julia-logo-graphics/raw/master/images/julia-logo-color.png\" height=\"100\" /> _On Colab_\n",
        "\n",
        "> Use a copy of this notebook <br>\n",
        "> Refresh the page after the installation"
      ],
      "metadata": {
        "id": "3omwJZrZmjQn"
      }
    },
    {
      "cell_type": "code",
      "execution_count": null,
      "metadata": {
        "id": "ZBwakFrhhge5"
      },
      "outputs": [],
      "source": [
        "%%shell\n",
        "set -e\n",
        "\n",
        "#---------------------------------------------------#\n",
        "JULIA_VERSION=\"1.7.1\" # any version ≥ 0.7.0\n",
        "JULIA_PACKAGES=\"IJulia BenchmarkTools PyCall PyPlot\"\n",
        "JULIA_PACKAGES_IF_GPU=\"CUDA\"\n",
        "JULIA_NUM_THREADS=4\n",
        "#---------------------------------------------------#\n",
        "\n",
        "if [ -n \"$COLAB_GPU\" ] && [ -z `which julia` ]; then\n",
        "  # Install Julia\n",
        "  JULIA_VER=`cut -d '.' -f -2 <<< \"$JULIA_VERSION\"`\n",
        "  echo \"Installing Julia $JULIA_VERSION on the current Colab Runtime...\"\n",
        "  BASE_URL=\"https://julialang-s3.julialang.org/bin/linux/x64\"\n",
        "  URL=\"$BASE_URL/$JULIA_VER/julia-$JULIA_VERSION-linux-x86_64.tar.gz\"\n",
        "  wget -nv $URL -O /tmp/julia.tar.gz # -nv means \"not verbose\"\n",
        "  tar -x -f /tmp/julia.tar.gz -C /usr/local --strip-components 1\n",
        "  rm /tmp/julia.tar.gz\n",
        "\n",
        "  # Install Packages\n",
        "  if [ \"$COLAB_GPU\" = \"1\" ]; then\n",
        "      JULIA_PACKAGES=\"$JULIA_PACKAGES $JULIA_PACKAGES_IF_GPU\"\n",
        "  fi\n",
        "  for PKG in `echo $JULIA_PACKAGES`; do\n",
        "    echo \"Installing Julia package $PKG...\"\n",
        "    julia -e 'using Pkg; pkg\"add '$PKG'; precompile;\"' &> /dev/null\n",
        "  done\n",
        "\n",
        "  # Install kernel and rename it to \"julia\"\n",
        "  echo \"Installing IJulia kernel...\"\n",
        "  julia -e 'using IJulia; IJulia.installkernel(\"julia\", env=Dict(\n",
        "      \"JULIA_NUM_THREADS\"=>\"'\"$JULIA_NUM_THREADS\"'\"))'\n",
        "  KERNEL_DIR=`julia -e \"using IJulia; print(IJulia.kerneldir())\"`\n",
        "  KERNEL_NAME=`ls -d \"$KERNEL_DIR\"/julia*`\n",
        "  mv -f $KERNEL_NAME \"$KERNEL_DIR\"/julia  \n",
        "\n",
        "  echo ''\n",
        "  echo \"Successfully installed `julia -v`!\"\n",
        "  echo \"Please reload this page (press Ctrl+R, ⌘+R, or the F5 key) then\"\n",
        "  echo \"jump to the 'Checking the Installation' section.\"\n",
        "fi"
      ]
    },
    {
      "cell_type": "markdown",
      "source": [
        "### Run the following cells to check Julia runtime"
      ],
      "metadata": {
        "id": "bVq3Iumvnlop"
      }
    },
    {
      "cell_type": "code",
      "source": [
        "versioninfo()"
      ],
      "metadata": {
        "id": "BaULUkbblv_q"
      },
      "execution_count": null,
      "outputs": []
    },
    {
      "cell_type": "code",
      "source": [
        "# Only needed if these aren't already installed (can \n",
        "using Pkg\n",
        "pkg\"add Oceananigans, CairoMakie, Plots\""
      ],
      "metadata": {
        "id": "LjuGb5kgmA9u"
      },
      "execution_count": null,
      "outputs": []
    },
    {
      "cell_type": "code",
      "source": [
        "using Oceananigans"
      ],
      "metadata": {
        "id": "2HiVMQ5sqqhS"
      },
      "execution_count": null,
      "outputs": []
    },
    {
      "cell_type": "code",
      "source": [
        "grid = RectilinearGrid(size=128, z=(-0.5, 0.5), topology=(Flat, Flat, Bounded))"
      ],
      "metadata": {
        "id": "7DByQU1stTBS"
      },
      "execution_count": null,
      "outputs": []
    },
    {
      "cell_type": "code",
      "source": [
        "?RectilinearGrid"
      ],
      "metadata": {
        "id": "ECHDBWqMtY1_"
      },
      "execution_count": null,
      "outputs": []
    },
    {
      "cell_type": "code",
      "source": [
        "closure = ScalarDiffusivity(κ=1)\n",
        "model = NonhydrostaticModel(; grid, closure, tracers=:T)"
      ],
      "metadata": {
        "id": "gwXvwrBFtctd"
      },
      "execution_count": null,
      "outputs": []
    },
    {
      "cell_type": "code",
      "source": [
        "width = 0.1\n",
        "initial_temperature(x, y, z) = exp(-z^2 / (2width^2))\n",
        "set!(model, T=initial_temperature)"
      ],
      "metadata": {
        "id": "rjTf8iFvtlqu"
      },
      "execution_count": null,
      "outputs": []
    },
    {
      "cell_type": "code",
      "source": [
        "using CairoMakie\n",
        "set_theme!(Theme(fontsize = 24, linewidth=3))\n",
        "\n",
        "fig = Figure()\n",
        "axis = (xlabel = \"Temperature (ᵒC)\", ylabel = \"z\")\n",
        "label = \"t = 0\"\n",
        "\n",
        "z = znodes(model.tracers.T)\n",
        "T0 = copy( interior(model.tracers.T, 1, 1, :) )\n",
        "\n",
        "lines(T0, z; label, axis)"
      ],
      "metadata": {
        "id": "mxwzW7qut5CD"
      },
      "execution_count": null,
      "outputs": []
    },
    {
      "cell_type": "code",
      "source": [
        "# Time-scale for diffusion across a grid cell\n",
        "diffusion_time_scale = model.grid.Δzᵃᵃᶜ^2 / model.closure.κ.T\n",
        "\n",
        "simulation = Simulation(model, Δt = 0.1 * diffusion_time_scale, stop_iteration = 1000)\n",
        "\n",
        "run!(simulation)"
      ],
      "metadata": {
        "id": "Z2RxbksBt-t0"
      },
      "execution_count": null,
      "outputs": []
    },
    {
      "cell_type": "code",
      "source": [
        "using Printf\n",
        "\n",
        "set_theme!(Theme(fontsize = 24, linewidth=3))\n",
        "\n",
        "fig = Figure()\n",
        "axis = (xlabel = \"Temperature (ᵒC)\", ylabel = \"z\")\n",
        "label = \"t = 0\"\n",
        "\n",
        "z = znodes(model.tracers.T)\n",
        "T = interior(model.tracers.T, 1, 1, :)\n",
        "\n",
        "lines(T0, z; label, axis)\n",
        "lines!(T, z; label)\n",
        "current_figure()"
      ],
      "metadata": {
        "id": "8obGxUEcuzXu"
      },
      "execution_count": null,
      "outputs": []
    },
    {
      "cell_type": "code",
      "source": [
        "simulation.output_writers[:temperature] =\n",
        "    JLD2OutputWriter(model, model.tracers,\n",
        "                     filename = \"one_dimensional_diffusion.jld2\",\n",
        "                     schedule=IterationInterval(100),\n",
        "                     overwrite_existing = true)\n",
        "\n",
        "simulation.stop_iteration += 10000\n",
        "run!(simulation)"
      ],
      "metadata": {
        "id": "of6Ag2davWkA"
      },
      "execution_count": null,
      "outputs": []
    },
    {
      "cell_type": "code",
      "source": [
        "T_timeseries = FieldTimeSeries(\"one_dimensional_diffusion.jld2\", \"T\")\n",
        "times = T_timeseries.times\n",
        "\n",
        "fig = Figure()\n",
        "ax = Axis(fig[2, 1]; xlabel = \"Temperature (ᵒC)\", ylabel = \"z\")\n",
        "xlims!(ax, 0, 1)\n",
        "\n",
        "n = Observable(1)\n",
        "\n",
        "T = @lift interior(T_timeseries[$n], 1, 1, :)\n",
        "lines!(T, z)\n",
        "\n",
        "label = @lift \"t = \" * string(round(times[$n], digits=3))\n",
        "Label(fig[1, 1], label, tellwidth=false)\n",
        "current_figure()\n",
        "\n",
        "frames = 1:length(times)\n",
        "\n",
        "@info \"Making an animation...\"\n",
        "\n",
        "record(fig, \"one_dimensional_diffusion.mp4\", frames, framerate=24) do i\n",
        "    msg = string(\"Plotting frame \", i, \" of \", frames[end])\n",
        "    print(msg * \" \\r\")\n",
        "    n[] = i\n",
        "end"
      ],
      "metadata": {
        "id": "o_lB07mHvbwm"
      },
      "execution_count": null,
      "outputs": []
    },
    {
      "cell_type": "code",
      "source": [
        ""
      ],
      "metadata": {
        "id": "NUy8VaLzwCw9"
      },
      "execution_count": null,
      "outputs": []
    }
  ]
}